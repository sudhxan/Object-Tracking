{
 "cells": [
  {
   "cell_type": "code",
   "execution_count": 1,
   "id": "ce6af1d8-ef6b-4751-bfe1-5a5f8a235d2b",
   "metadata": {},
   "outputs": [],
   "source": [
    "import cv2"
   ]
  },
  {
   "cell_type": "code",
   "execution_count": 2,
   "id": "9a36b804-146f-4b4a-9e66-8eda0a7e1df3",
   "metadata": {},
   "outputs": [
    {
     "name": "stdout",
     "output_type": "stream",
     "text": [
      " Volume in drive C is Windows-SSD\n",
      " Volume Serial Number is B64F-9D50\n",
      "\n",
      " Directory of C:\\Users\\harih\n",
      "\n",
      "19-02-2024  17:19    <DIR>          .\n",
      "08-10-2023  13:53    <DIR>          ..\n",
      "06-02-2024  11:18    <DIR>          .anaconda\n",
      "02-02-2024  08:05    <DIR>          .atom\n",
      "10-06-2023  05:39               158 .bash_history\n",
      "13-06-2021  08:31    <DIR>          .cache\n",
      "19-02-2024  17:22    <DIR>          .conda\n",
      "09-06-2021  05:38                43 .condarc\n",
      "09-06-2021  05:44    <DIR>          .continuum\n",
      "18-06-2021  07:06    <DIR>          .eclipse\n",
      "27-12-2020  01:56                16 .emulator_console_auth_token\n",
      "07-07-2023  04:39               274 .gitconfig\n",
      "27-12-2020  01:59    <DIR>          .gradle\n",
      "12-08-2022  16:53    <DIR>          .insomniac\n",
      "19-02-2024  16:28    <DIR>          .ipynb_checkpoints\n",
      "16-02-2021  00:05    <DIR>          .ipython\n",
      "10-06-2021  06:36    <DIR>          .jupyter\n",
      "28-08-2021  07:28    <DIR>          .keras\n",
      "17-06-2021  09:55    <DIR>          .m2\n",
      "16-02-2021  00:05    <DIR>          .matplotlib\n",
      "16-06-2021  01:21    <DIR>          .nbi\n",
      "03-11-2020  08:08    <DIR>          .Origin\n",
      "20-06-2021  01:07    <DIR>          .p2\n",
      "25-10-2022  13:38    <DIR>          .pyenv\n",
      "03-11-2020  08:08    <DIR>          .QtWebEngineProcess\n",
      "28-08-2021  22:29    <DIR>          .spyder-py3\n",
      "20-11-2023  14:45    <DIR>          .ssh\n",
      "16-01-2024  15:14    <DIR>          .streamlit\n",
      "08-08-2020  09:39    <DIR>          .thumbnails\n",
      "18-06-2021  02:32    <DIR>          .tooling\n",
      "24-11-2021  19:27    <DIR>          .VirtualBox\n",
      "02-02-2021  22:22    <DIR>          .vscode\n",
      "26-06-2021  07:54             8,153 0.0.7\n",
      "13-06-2020  09:08    <DIR>          3D Objects\n",
      "13-06-2020  09:16    <DIR>          ansel\n",
      "18-04-2022  05:40            37,853 Bar.ini\n",
      "24-06-2023  04:40    <DIR>          Contacts\n",
      "22-01-2021  10:24    <DIR>          Creative Cloud Files\n",
      "22-07-2023  07:59    <DIR>          Desktop\n",
      "05-02-2023  02:22    <DIR>          Documents\n",
      "19-02-2024  15:43    <DIR>          Downloads\n",
      "19-06-2021  09:02    <DIR>          eclipse-workspace\n",
      "24-06-2023  04:40    <DIR>          Favorites\n",
      "11-06-2021  09:06            10,611 feature_extractionn.ipynb\n",
      "11-06-2021  14:08             8,300 feature_extractionn-Copy1.ipynb\n",
      "11-02-2024  21:53         4,131,155 Giridharan-Hariharasudhan-Assignment-2.ipynb\n",
      "22-06-2020  05:49    <DIR>          Intel\n",
      "24-06-2023  04:40    <DIR>          Links\n",
      "06-12-2023  21:14               640 login_user.php\n",
      "01-11-2023  09:47    <DIR>          Microsoft\n",
      "11-02-2024  22:40    <DIR>          MiKTeX\n",
      "11-02-2024  22:43                22 miktex-console.lock\n",
      "10-07-2020  13:34        14,459,426 mot.mp4\n",
      "24-06-2023  04:40    <DIR>          Music\n",
      "22-07-2023  07:57    <DIR>          myapp\n",
      "22-07-2023  07:57    <DIR>          node_modules\n",
      "09-06-2021  01:32            10,390 of_Ft_extract_iteration1.ipynb\n",
      "09-06-2021  04:50             9,760 of_Ft_extract_iteration1-Copy1.ipynb\n",
      "13-07-2023  10:37    <DIR>          OneDrive\n",
      "22-07-2023  07:57             1,821 package.json\n",
      "22-07-2023  07:57            47,434 package-lock.json\n",
      "11-07-2023  23:12    <DIR>          Postman\n",
      "13-10-2021  02:33    <DIR>          PycharmProjects\n",
      "24-06-2023  04:40    <DIR>          Saved Games\n",
      "24-06-2023  05:21    <DIR>          Searches\n",
      "18-04-2022  04:06    <DIR>          SysTemp\n",
      "09-06-2021  04:52             2,440 test.ipynb\n",
      "02-06-2021  06:03               555 Untitled.ipynb\n",
      "09-06-2021  00:41               555 Untitled1.ipynb\n",
      "12-06-2021  01:34             3,822 Untitled2.ipynb\n",
      "09-02-2024  12:27                72 Untitled3.ipynb\n",
      "19-02-2024  16:07                72 Untitled4.ipynb\n",
      "19-02-2024  16:27             3,746 Untitled5.ipynb\n",
      "19-02-2024  17:19            10,275 Untitled6.ipynb\n",
      "19-02-2024  16:01    <DIR>          Videos\n",
      "25-10-2021  16:20    <DIR>          VirtualBox VMs\n",
      "18-04-2022  05:40             2,305 Wpl.ini\n",
      "              25 File(s)     18,749,898 bytes\n",
      "              52 Dir(s)   9,290,592,256 bytes free\n"
     ]
    }
   ],
   "source": [
    "%ls"
   ]
  },
  {
   "cell_type": "code",
   "execution_count": 3,
   "id": "beb06311-f8e9-4175-a49c-59e1908e5d1d",
   "metadata": {},
   "outputs": [],
   "source": [
    "TrDict = {'csrt': cv2.TrackerCSRT_create,\n",
    "          'kcf': cv2.TrackerKCF_create,\n",
    "          'boosting': cv2.legacy.TrackerBoosting_create,\n",
    "          'mil': cv2.TrackerMIL_create,\n",
    "          'tld': cv2.legacy.TrackerTLD_create,\n",
    "          'medianflow': cv2.legacy.TrackerMedianFlow_create,\n",
    "          'mosse': cv2.legacy.TrackerMOSSE_create}\n",
    "#Few tracker functions have been moved to legacy"
   ]
  },
  {
   "cell_type": "code",
   "execution_count": 5,
   "id": "59f4fa0d-a2f4-459f-b204-02684904990a",
   "metadata": {},
   "outputs": [],
   "source": [
    "trackers = cv2.legacy.MultiTracker_create()"
   ]
  },
  {
   "cell_type": "code",
   "execution_count": 15,
   "id": "0d46d877-085b-4f38-8050-070e1df679bc",
   "metadata": {},
   "outputs": [],
   "source": [
    "tracker = TrDict['csrt']()"
   ]
  },
  {
   "cell_type": "code",
   "execution_count": 16,
   "id": "675d8192-8395-4608-985d-e91d303926a7",
   "metadata": {},
   "outputs": [],
   "source": [
    "v = cv2.VideoCapture(r'mot.mp4')"
   ]
  },
  {
   "cell_type": "code",
   "execution_count": 17,
   "id": "57c55794-70fe-4a2c-89e4-c3c67ddaee9a",
   "metadata": {},
   "outputs": [],
   "source": [
    "ret, frame = v.read()"
   ]
  },
  {
   "cell_type": "code",
   "execution_count": 19,
   "id": "3e67d54c-6504-4a95-bb9c-b58051dbd004",
   "metadata": {},
   "outputs": [
    {
     "data": {
      "text/plain": [
       "True"
      ]
     },
     "execution_count": 19,
     "metadata": {},
     "output_type": "execute_result"
    }
   ],
   "source": [
    "ret"
   ]
  },
  {
   "cell_type": "code",
   "execution_count": 20,
   "id": "9db5aed7-d861-47ec-897d-adce55c19851",
   "metadata": {},
   "outputs": [
    {
     "data": {
      "text/plain": [
       "array([[[0, 0, 0],\n",
       "        [0, 0, 0],\n",
       "        [0, 0, 0],\n",
       "        ...,\n",
       "        [0, 0, 0],\n",
       "        [0, 0, 0],\n",
       "        [0, 0, 0]],\n",
       "\n",
       "       [[0, 0, 0],\n",
       "        [0, 0, 0],\n",
       "        [0, 0, 0],\n",
       "        ...,\n",
       "        [0, 0, 0],\n",
       "        [0, 0, 0],\n",
       "        [0, 0, 0]],\n",
       "\n",
       "       [[0, 0, 0],\n",
       "        [0, 0, 0],\n",
       "        [0, 0, 0],\n",
       "        ...,\n",
       "        [0, 0, 0],\n",
       "        [0, 0, 0],\n",
       "        [0, 0, 0]],\n",
       "\n",
       "       ...,\n",
       "\n",
       "       [[0, 0, 0],\n",
       "        [0, 0, 0],\n",
       "        [0, 0, 0],\n",
       "        ...,\n",
       "        [0, 0, 0],\n",
       "        [0, 0, 0],\n",
       "        [0, 0, 0]],\n",
       "\n",
       "       [[0, 0, 0],\n",
       "        [0, 0, 0],\n",
       "        [0, 0, 0],\n",
       "        ...,\n",
       "        [0, 0, 0],\n",
       "        [0, 0, 0],\n",
       "        [0, 0, 0]],\n",
       "\n",
       "       [[0, 0, 0],\n",
       "        [0, 0, 0],\n",
       "        [0, 0, 0],\n",
       "        ...,\n",
       "        [0, 0, 0],\n",
       "        [0, 0, 0],\n",
       "        [0, 0, 0]]], dtype=uint8)"
      ]
     },
     "execution_count": 20,
     "metadata": {},
     "output_type": "execute_result"
    }
   ],
   "source": [
    "frame"
   ]
  },
  {
   "cell_type": "code",
   "execution_count": 21,
   "id": "8f222d15-054a-42dd-86af-5d6774eb911b",
   "metadata": {},
   "outputs": [],
   "source": [
    "cv2.imshow('Frame',frame)\n",
    "bb = cv2.selectROI('Frame',frame)\n",
    "tracker.init(frame,bb)"
   ]
  },
  {
   "cell_type": "code",
   "execution_count": 22,
   "id": "552699bc-da0b-423e-b513-980404db3599",
   "metadata": {},
   "outputs": [],
   "source": [
    "while True:\n",
    "    ret, frame = v.read()\n",
    "    if not ret:\n",
    "        break\n",
    "    (success, box) = tracker.update(frame)\n",
    "    if success:\n",
    "        (x,y,w,h) = [int(a) for a in box]\n",
    "        cv2.rectangle(frame, (x,y), (x+w,y+h),(255,255,0),2)\n",
    "    cv2.imshow('Frame', frame)\n",
    "    key = cv2.waitKey(5) & 0xFF\n",
    "    if key == ord('q'):\n",
    "        break\n",
    "\n",
    "v.release()\n",
    "cv2.destroyAllWindows()"
   ]
  },
  {
   "cell_type": "code",
   "execution_count": null,
   "id": "1473e0eb-d1ce-4b39-a0e5-d50f33db59d4",
   "metadata": {},
   "outputs": [],
   "source": []
  },
  {
   "cell_type": "code",
   "execution_count": null,
   "id": "29928319-44d2-4763-9bd4-b1c76d5305dd",
   "metadata": {},
   "outputs": [],
   "source": []
  }
 ],
 "metadata": {
  "kernelspec": {
   "display_name": "Python 3 (ipykernel)",
   "language": "python",
   "name": "python3"
  },
  "language_info": {
   "codemirror_mode": {
    "name": "ipython",
    "version": 3
   },
   "file_extension": ".py",
   "mimetype": "text/x-python",
   "name": "python",
   "nbconvert_exporter": "python",
   "pygments_lexer": "ipython3",
   "version": "3.11.7"
  }
 },
 "nbformat": 4,
 "nbformat_minor": 5
}
